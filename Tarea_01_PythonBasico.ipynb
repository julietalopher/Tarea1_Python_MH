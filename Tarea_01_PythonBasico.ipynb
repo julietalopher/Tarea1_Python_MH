{
 "cells": [
  {
   "cell_type": "markdown",
   "metadata": {},
   "source": [
    "# Tarea 01: Python básico\n",
    "\n",
    "**Clase: Modelado Hidrológico**\n",
    "\n",
    "**Maestría académica en Gestión Integrada del Recurso Hídrico para Latinoamérica y el Caribe (GIRH-LAC)**\n",
    "\n",
    "### Instrucciones\n",
    "\n",
    "- Para los siguientes ejercicios contestar lo que se les pide. Se pueden auxiliar con los apuntes del módulo Python Básico. \n",
    "\n",
    "- **Sustituir XXX por su respuesta!**\n",
    "\n",
    "\n",
    "## Ejercicio 1\n",
    "Definir el tipo de variables que se le pide a continuación:"
   ]
  },
  {
   "cell_type": "code",
   "execution_count": 2,
   "metadata": {},
   "outputs": [],
   "source": [
    "v1 = 11  # definir un numero entero\n",
    "v2 = 11.11  # definir un numero flotante\n",
    "v3 = \"Hola Juli\"   # definir una cadena de caracteres\n",
    "v4 = [11.11, \"a\", 5]  # definir una lista, con al menos tres elementos\n",
    "v5 = (1, 2, 3)  # definir una tupla, con al menos un elemento\n",
    "v6 = {\n",
    "    'a' : 11,\n",
    "    'b' : 22,\n",
    "    'c' : 33\n",
    "    } # definir un diccionario con al menos un elemento"
   ]
  },
  {
   "cell_type": "markdown",
   "metadata": {},
   "source": [
    "## Ejercicio 2\n",
    "\n",
    "Se tienen definidas las siguientes variables:"
   ]
  },
  {
   "cell_type": "code",
   "execution_count": 11,
   "metadata": {},
   "outputs": [
    {
     "name": "stdout",
     "output_type": "stream",
     "text": [
      "La variable a4 es de tipo: <class 'float'>\n",
      "La variable a5 es de tipo: <class 'int'>\n",
      "La variable a6 es de tipo: <class 'int'>\n",
      "La variable a7 es de tipo: <class 'str'>\n"
     ]
    }
   ],
   "source": [
    "a1 = 40\n",
    "a2 = 14.0\n",
    "a3 = \"23\"\n",
    "\n",
    "a4 = float(a1)   # convertir a1 a numero flotante\n",
    "print(\"La variable a4 es de tipo:\", type(a4))\n",
    "a5 = int(a2)   # convertir a2 a numero entero\n",
    "print(\"La variable a5 es de tipo:\", type(a5))\n",
    "a6 = int(a3)   # convertir a3 a numero entero\n",
    "print(\"La variable a6 es de tipo:\", type(a6))\n",
    "a7 = str(a1)   # convertir a1 a una cadena de caracteres\n",
    "print(\"La variable a7 es de tipo:\", type(a7))"
   ]
  },
  {
   "cell_type": "markdown",
   "metadata": {},
   "source": [
    "## Ejercicio 3\n",
    "\n",
    "Se definen los siguientes números. Realizar las operaciones algebraicas que se piden (a1 siempre en primer lugar). En cada operación deberán convertir a2 a número."
   ]
  },
  {
   "cell_type": "code",
   "execution_count": 12,
   "metadata": {},
   "outputs": [
    {
     "name": "stdout",
     "output_type": "stream",
     "text": [
      "14\n",
      "6\n",
      "40\n",
      "2.5\n",
      "10000\n"
     ]
    }
   ],
   "source": [
    "a1 = 10\n",
    "a2 = \"4\"\n",
    "\n",
    "print(a1 + int(a2))    # suma\n",
    "print(a1 - int(a2))    # resta\n",
    "print(a1 * int(a2))    # multiplicacion\n",
    "print(a1 / int(a2))    # division\n",
    "print(a1 ** int(a2))    # potencia"
   ]
  },
  {
   "cell_type": "markdown",
   "metadata": {
    "tags": []
   },
   "source": [
    "## Ejercicio 4\n",
    "\n",
    "Definidas las variables a1 y a2, escribir la ecuación siguiente para ser evaluada en lenguaje Python:\n",
    "\n",
    "$(a1 - a2) ^ 3 / (a2 - a1)$"
   ]
  },
  {
   "cell_type": "code",
   "execution_count": 14,
   "metadata": {},
   "outputs": [
    {
     "name": "stdout",
     "output_type": "stream",
     "text": [
      "-1.0\n"
     ]
    }
   ],
   "source": [
    "a1 = 4.0\n",
    "a2 = 5.0\n",
    "\n",
    "print((a1 - a2) ** 3 / (a2 - a1))   # remplazar XXX por la ecuacion"
   ]
  },
  {
   "cell_type": "markdown",
   "metadata": {},
   "source": [
    "## Ejercicio 5\n",
    "Se tiene la siguiente cadena de texto, aplicar los metodos necesarios para obtener lo que se pide:"
   ]
  },
  {
   "cell_type": "code",
   "execution_count": 15,
   "metadata": {},
   "outputs": [
    {
     "name": "stdout",
     "output_type": "stream",
     "text": [
      "primer tarea de python\n",
      "PRIMER TAREA DE PYTHON\n",
      "22\n",
      "False\n"
     ]
    }
   ],
   "source": [
    "texto = 'Primer tarea de Python'\n",
    "\n",
    "# remplazar XXX por los metodos\n",
    "print(texto.lower())        # cambiar todo el texto a minusculas\n",
    "print(texto.upper())        # pasar todo el texto a mayusculas\n",
    "print(len(texto))         # obtener el numero de elementos del texto\n",
    "print(texto.endswith('python'))  # verificar si el texto termina con \"python\" #False porque termina con \"Python\" (P mayuscula\""
   ]
  },
  {
   "cell_type": "markdown",
   "metadata": {},
   "source": [
    "## Ejercicio 6\n",
    "\n",
    "Se tiene definidos varios elementos, crear los objetos que se piden a continuación:"
   ]
  },
  {
   "cell_type": "code",
   "execution_count": 23,
   "metadata": {},
   "outputs": [
    {
     "name": "stdout",
     "output_type": "stream",
     "text": [
      "La variable v1 es de tipo: <class 'tuple'>\n",
      "La variable v2 es de tipo: <class 'list'>\n"
     ]
    }
   ],
   "source": [
    "a1 = 6\n",
    "a2 = 7\n",
    "a3 = 10.5\n",
    "\n",
    "## Reemplazar XXX por las funciones necesarios\n",
    "v1 =  tuple((a1, a2, a3)) # crear una tupla\n",
    "print(\"La variable v1 es de tipo:\", type(v1)) \n",
    "v2 = list((a1, a2, a3)) # crear una lista\n",
    "print(\"La variable v2 es de tipo:\", type(v2))"
   ]
  },
  {
   "cell_type": "markdown",
   "metadata": {},
   "source": [
    "## Ejercicio 7\n",
    "\n",
    "Se tiene definido el siguiente diccionario definido. Utiliza los métodos necesarios para resolver lo que se pide:"
   ]
  },
  {
   "cell_type": "code",
   "execution_count": 24,
   "metadata": {},
   "outputs": [
    {
     "name": "stdout",
     "output_type": "stream",
     "text": [
      "0.5\n",
      "500\n",
      "1.5\n"
     ]
    }
   ],
   "source": [
    "d = {\"k\": 0.5, \"alpha\": 1.2, \"wmax\":500}\n",
    "\n",
    "print(d[\"k\"])   #extraer la variable k\n",
    "print(d[\"wmax\"])   #extraer la variable wmax\n",
    "\n",
    "\n",
    "d[\"alpha\"] = 1.5   # reemplazar el valor de aplha por 1.5\n",
    "#print(d[\"alpha\"])"
   ]
  },
  {
   "cell_type": "markdown",
   "metadata": {},
   "source": [
    "## Ejercicio 8\n",
    "\n",
    "Se tienen varias variables con cadenas de caracteres. Concatenarlas para formar la frase \"Curso de Modelado Hidrologico\". Agregar las palabras y espacios necesarios:"
   ]
  },
  {
   "cell_type": "code",
   "execution_count": 28,
   "metadata": {},
   "outputs": [
    {
     "name": "stdout",
     "output_type": "stream",
     "text": [
      "Curso de Modelado Hidrologico\n"
     ]
    }
   ],
   "source": [
    "t1 = 'Modelado'\n",
    "t2 = 'Curso'\n",
    "t3 = 'de'\n",
    "t4 = 'Hidrologico'\n",
    "\n",
    "## Reemplazar XXX por el codigo necesario para generar la frase\n",
    "print(t2 + \" \" + t3 + \" \" + t1 + \" \" + t4)"
   ]
  },
  {
   "cell_type": "markdown",
   "metadata": {},
   "source": [
    "## Ejercicio 9\n",
    "Se tiene definida la siguiente lista. Aplicarle los métodos adecuados para obtener lo que se pide:"
   ]
  },
  {
   "cell_type": "code",
   "execution_count": 31,
   "metadata": {},
   "outputs": [
    {
     "name": "stdout",
     "output_type": "stream",
     "text": [
      "5\n",
      "10\n",
      "1\n",
      "23\n",
      "[1, 2, 5, 5, 10, 11, 13, 20]\n"
     ]
    }
   ],
   "source": [
    "lista = [1, 2, 5, 5, 10]\n",
    "\n",
    "print(len(lista))      # obtener el numero de elementos de la lista\n",
    "print(max(lista))      # obtener el maximo de la lista\n",
    "print(min(lista))      # obtener el minimo de la lista\n",
    "print(sum(lista))      # obtener la suma\n",
    "\n",
    "lista.append(11)          # agrergar el numero 11 a la lista\n",
    "lista.extend([13, 20])    # agregar 13 y 20 como 2 elementos en la lista orginal\n",
    "\n",
    "tupla = tuple(lista)     # convertir la lista a tupla\n",
    "\n",
    "print(lista)           # no modificar esta linea de codigo\n",
    "#print(tupla)"
   ]
  },
  {
   "cell_type": "markdown",
   "metadata": {},
   "source": [
    "## Ejercicio 10\n",
    "\n",
    "Se tiene definida la siguiente lista. Usar los indices necesarios y los métodos para extraer los elementos que se indican:"
   ]
  },
  {
   "cell_type": "code",
   "execution_count": 34,
   "metadata": {},
   "outputs": [
    {
     "name": "stdout",
     "output_type": "stream",
     "text": [
      "10\n",
      "A\n",
      "1\n",
      "a\n",
      "[1, 10, 6]\n",
      "[10, 6, 'a']\n"
     ]
    }
   ],
   "source": [
    "lista = [1, 10, 6, 'a']\n",
    "\n",
    "print(lista[1])          # extraer el numero 10 \n",
    "print(lista[3].upper())    # extraer el caracter 'a' y convertirlo a mayuscula\n",
    "print(lista[0])          # extraer el numero 1\n",
    "print(lista[-1])          # extraer el ultimo elemento con el indice negativo\n",
    "print(lista[:3])         # extraer los primeros 3 elementos\n",
    "print(lista[1:])         # extraer los ultimos 3 elementos"
   ]
  }
 ],
 "metadata": {
  "kernelspec": {
   "display_name": "Python 3 (ipykernel)",
   "language": "python",
   "name": "python3"
  },
  "language_info": {
   "codemirror_mode": {
    "name": "ipython",
    "version": 3
   },
   "file_extension": ".py",
   "mimetype": "text/x-python",
   "name": "python",
   "nbconvert_exporter": "python",
   "pygments_lexer": "ipython3",
   "version": "3.9.10"
  }
 },
 "nbformat": 4,
 "nbformat_minor": 4
}
